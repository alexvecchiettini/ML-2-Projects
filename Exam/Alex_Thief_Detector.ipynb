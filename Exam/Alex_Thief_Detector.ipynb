{
 "cells": [
  {
   "cell_type": "markdown",
   "metadata": {},
   "source": [
    "# Thief Detector\n",
    "## This task tests your Image Processing skills to build a motion detection algorithm that alarms you when you have an unwanted visitor in your home."
   ]
  },
  {
   "cell_type": "markdown",
   "metadata": {},
   "source": [
    "## Steps\n",
    "- 1. Get the live video feed from your webcam\n",
    "- 2. Fix a scene (the place you want to monitor) and store it as a reference background image\n",
    "    - Store the first frame as the reference background frame\n",
    "- 3. For every frame, check if there is any unwanted object inside the scene you are monitoring\n",
    "    - Use **Background Subtraction** concept (**cv2.absdiff( )**)\n",
    "        - Subtract the current frame from the reference background image(frame) to see the changes in the scene\n",
    "        - If there is enormous amount of pixels distrubed in the subtraction result image\n",
    "            - unwanted visitor (place is unsafe --> alarm the authorities)\n",
    "        - If there is no enormous amount of pixels distrubed in the subtraction result image\n",
    "            - no unwanted visitor (place is safe)\n",
    "- 4. Output the text **\"UNSAFE\"** in **red** color on the top right of the frame when there is an intruder in the scene.\n",
    "- 5. Save the live feed\n",
    "- 6. Submit the (.ipynb) file"
   ]
  },
  {
   "cell_type": "markdown",
   "metadata": {},
   "source": [
    "## Get live video feed from webcam [10 points]"
   ]
  },
  {
   "cell_type": "code",
   "execution_count": 2,
   "metadata": {},
   "outputs": [],
   "source": [
    "import cv2\n",
    "video_capture = cv2.VideoCapture(0)\n",
    "# Get current width of frame\n",
    "width = int(video_capture.get(cv2.CAP_PROP_FRAME_WIDTH))  # float\n",
    "# Get current height of frame\n",
    "height = int(video_capture.get(cv2.CAP_PROP_FRAME_HEIGHT))  # float\n",
    "# Load codec\n",
    "fourcc = cv2.VideoWriter_fourcc(*'mp4v')\n",
    "# Generate writer (24 fps)\n",
    "out = cv2.VideoWriter('recording.mp4', fourcc, 24, (int(width), int(height)))\n",
    "# Initializing first frame\n",
    "base_frame = []\n",
    "while (video_capture.isOpened()):\n",
    "    area = 0\n",
    "    # Get current frame\n",
    "    ret, frame = video_capture.read()\n",
    "    gray_frame = cv2.cvtColor(frame, cv2.COLOR_BGR2GRAY)\n",
    "    if len(base_frame) == 0:\n",
    "        # store it as first frame if none was stored before\n",
    "        base_frame = gray_frame\n",
    "    # Applly absdiff \n",
    "    diff = cv2.absdiff(base_frame, gray_frame)\n",
    "    # apply threshold\n",
    "    ret, thresholded = cv2.threshold(diff, 40, 255, cv2.THRESH_BINARY)\n",
    "#     find the contours\n",
    "    contours, hierarchy = cv2.findContours(thresholded, cv2.RETR_EXTERNAL, cv2.CHAIN_APPROX_NONE)\n",
    "#     draw contours\n",
    "#     cv2.drawContours(frame, contours, -1, (0, 255, 0), 3)\n",
    "    \n",
    "    for contour in contours:\n",
    "        # get rectangle bounding contour\n",
    "        [x,y,w,h] = cv2.boundingRect(contour)\n",
    "        # draw rectangle around contour on original image\n",
    "        cv2.rectangle(frame,(x,y),(x+w,y+h),(255,0,255),2)\n",
    "        # evaluate contour area for each contour\n",
    "        area += cv2.contourArea(contour)\n",
    "    \n",
    "    if area > ((height*width)/20):\n",
    "        # font\n",
    "        font = cv2.FONT_HERSHEY_SIMPLEX\n",
    "        # org\n",
    "        org = (50, 50)\n",
    "        # fontScale\n",
    "        fontScale = 1\n",
    "        # Blue color in BGR\n",
    "        color = (0, 0, 255)\n",
    "        # Line thickness of 2 px\n",
    "        thickness = 2\n",
    "        # Using cv2.putText() method\n",
    "        image = cv2.putText(frame, 'UNSAFE', org, font, fontScale, color, thickness, cv2.LINE_AA)\n",
    "        \n",
    "    out.write(frame)\n",
    "    cv2.imshow('Video', frame)\n",
    "     # On 'q' pressing relese the video capturing stream thereby terminating the loop,\n",
    "    # also release the output stream and close all windows    \n",
    "    if cv2.waitKey(1) & 0xFF == ord('q'):\n",
    "        video_capture.release()\n",
    "        out.release()\n",
    "        cv2.destroyAllWindows()  \n",
    "        "
   ]
  },
  {
   "cell_type": "markdown",
   "metadata": {},
   "source": [
    "## Read first frame, convert to Grayscale and store it as reference background image [10 points]"
   ]
  },
  {
   "cell_type": "code",
   "execution_count": null,
   "metadata": {},
   "outputs": [],
   "source": [
    "done"
   ]
  },
  {
   "cell_type": "markdown",
   "metadata": {},
   "source": [
    "## Compute Absolute Difference between Current and First frame [20 points]"
   ]
  },
  {
   "cell_type": "code",
   "execution_count": null,
   "metadata": {},
   "outputs": [],
   "source": [
    "done"
   ]
  },
  {
   "cell_type": "markdown",
   "metadata": {},
   "source": [
    "## Apply threshold [5 points]"
   ]
  },
  {
   "cell_type": "code",
   "execution_count": null,
   "metadata": {},
   "outputs": [],
   "source": [
    "done"
   ]
  },
  {
   "cell_type": "markdown",
   "metadata": {},
   "source": [
    "## Find contours [10 points]"
   ]
  },
  {
   "cell_type": "code",
   "execution_count": null,
   "metadata": {},
   "outputs": [],
   "source": [
    "done"
   ]
  },
  {
   "cell_type": "markdown",
   "metadata": {},
   "source": [
    "## Check if contourArea is large and draw rectangle around the object, output \"UNSAFE\" text in red color [30 points]"
   ]
  },
  {
   "cell_type": "code",
   "execution_count": null,
   "metadata": {},
   "outputs": [],
   "source": [
    "done"
   ]
  },
  {
   "cell_type": "markdown",
   "metadata": {},
   "source": [
    "## Display images [10 points]"
   ]
  },
  {
   "cell_type": "code",
   "execution_count": null,
   "metadata": {},
   "outputs": [],
   "source": [
    "done"
   ]
  },
  {
   "cell_type": "markdown",
   "metadata": {},
   "source": [
    "## Release objects [5 points]"
   ]
  },
  {
   "cell_type": "code",
   "execution_count": null,
   "metadata": {},
   "outputs": [],
   "source": [
    "done"
   ]
  }
 ],
 "metadata": {
  "kernelspec": {
   "display_name": "Python 3 (ipykernel)",
   "language": "python",
   "name": "python3"
  },
  "language_info": {
   "codemirror_mode": {
    "name": "ipython",
    "version": 3
   },
   "file_extension": ".py",
   "mimetype": "text/x-python",
   "name": "python",
   "nbconvert_exporter": "python",
   "pygments_lexer": "ipython3",
   "version": "3.9.13"
  }
 },
 "nbformat": 4,
 "nbformat_minor": 4
}
