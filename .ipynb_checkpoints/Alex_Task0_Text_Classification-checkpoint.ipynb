{
 "cells": [
  {
   "cell_type": "markdown",
   "id": "feea4794",
   "metadata": {},
   "source": [
    "# Task 1, Text Classification\n",
    "## Alex Vecchiettini"
   ]
  },
  {
   "cell_type": "markdown",
   "id": "53d5c319",
   "metadata": {},
   "source": [
    "## Libraries import"
   ]
  },
  {
   "cell_type": "code",
   "execution_count": 1,
   "id": "31b71fdf",
   "metadata": {},
   "outputs": [],
   "source": [
    "from sklearn.datasets import fetch_20newsgroups\n",
    "from sklearn.pipeline import Pipeline\n",
    "from sklearn.model_selection import GridSearchCV\n",
    "import numpy as np\n",
    "import pandas as pd\n",
    "import re\n",
    "from sklearn.preprocessing import MinMaxScaler\n",
    "from sklearn.feature_extraction.text import CountVectorizer, TfidfTransformer, TfidfVectorizer\n",
    "from gensim.models import Word2Vec, Doc2Vec\n",
    "from nltk.tokenize import word_tokenize\n",
    "from sklearn.naive_bayes import MultinomialNB\n",
    "from sklearn.linear_model import LogisticRegression\n",
    "from sklearn.svm import SVC\n",
    "from sklearn.tree import DecisionTreeClassifier\n",
    "from sklearn.ensemble import RandomForestClassifier\n",
    "from sklearn.metrics import precision_score, recall_score"
   ]
  },
  {
   "cell_type": "markdown",
   "id": "53794bfb",
   "metadata": {},
   "source": [
    "## Fetching Data"
   ]
  },
  {
   "cell_type": "markdown",
   "id": "a1132bf4",
   "metadata": {},
   "source": [
    "### Choose categories "
   ]
  },
  {
   "cell_type": "code",
   "execution_count": 2,
   "id": "b40da222",
   "metadata": {},
   "outputs": [
    {
     "name": "stdout",
     "output_type": "stream",
     "text": [
      "Loading the following categories from 20 newsgroups dataset: \n",
      "['talk.politics.guns', 'talk.politics.mideast', 'talk.politics.misc', 'talk.religion.misc']\n"
     ]
    }
   ],
   "source": [
    "categories = ['talk.politics.guns', 'talk.politics.mideast', 'talk.politics.misc', 'talk.religion.misc']\n",
    "print('Loading the following categories from 20 newsgroups dataset: ')\n",
    "print(categories)"
   ]
  },
  {
   "cell_type": "markdown",
   "id": "f3cf3f96",
   "metadata": {},
   "source": [
    "### Download data for selected categories"
   ]
  },
  {
   "cell_type": "code",
   "execution_count": 3,
   "id": "aaa835f6",
   "metadata": {},
   "outputs": [
    {
     "name": "stdout",
     "output_type": "stream",
     "text": [
      "1952 documents\n",
      "4 categories\n"
     ]
    }
   ],
   "source": [
    "data = fetch_20newsgroups(subset='train', categories=categories)\n",
    "data_test = fetch_20newsgroups(subset='test', categories=categories)\n",
    "print(f\"{len(data.filenames)} documents\")\n",
    "print(f\"{len(data.target_names)} categories\")"
   ]
  },
  {
   "cell_type": "markdown",
   "id": "4603e972",
   "metadata": {},
   "source": [
    "## Create pipelines for Count Vectorizer and Tfidf"
   ]
  },
  {
   "cell_type": "code",
   "execution_count": 4,
   "id": "214a64ee",
   "metadata": {},
   "outputs": [],
   "source": [
    "CV_tuples = [('vect', CountVectorizer()), ('tfidf', TfidfTransformer())]\n",
    "TFIDF_tuple = ('tfidf', TfidfVectorizer())\n",
    "NB_tuple = ('mnb', MultinomialNB())\n",
    "LR_tuple = ('lr',LogisticRegression())\n",
    "SVM_tuple = ('svm',SVC())\n",
    "DT_tuple = ('dt',DecisionTreeClassifier())\n",
    "RF_tuple = ('rf',RandomForestClassifier())\n",
    "# pipelines with TF-IDF\n",
    "pipeline_TFIDF_NB = Pipeline([TFIDF_tuple, NB_tuple])\n",
    "pipeline_TFIDF_LR = Pipeline([TFIDF_tuple, LR_tuple])\n",
    "pipeline_TFIDF_SVM = Pipeline([TFIDF_tuple, SVM_tuple])\n",
    "pipeline_TFIDF_DT = Pipeline([TFIDF_tuple, DT_tuple])\n",
    "pipeline_TFIDF_RF = Pipeline([TFIDF_tuple, RF_tuple])\n",
    "# pipelines with Count Vectorizer\n",
    "pipeline_CV_NB = Pipeline([*CV_tuples, NB_tuple])\n",
    "pipeline_CV_LR = Pipeline([*CV_tuples, LR_tuple])\n",
    "pipeline_CV_SVM = Pipeline([*CV_tuples, SVM_tuple])\n",
    "pipeline_CV_DT = Pipeline([*CV_tuples, DT_tuple])\n",
    "pipeline_CV_RF = Pipeline([*CV_tuples, RF_tuple])\n"
   ]
  },
  {
   "cell_type": "markdown",
   "id": "fd9f346e",
   "metadata": {},
   "source": [
    "## Fit pipelines "
   ]
  },
  {
   "cell_type": "code",
   "execution_count": 5,
   "id": "0edc23df",
   "metadata": {},
   "outputs": [
    {
     "data": {
      "text/plain": [
       "Pipeline(steps=[('vect', CountVectorizer()), ('tfidf', TfidfTransformer()),\n",
       "                ('rf', RandomForestClassifier())])"
      ]
     },
     "execution_count": 5,
     "metadata": {},
     "output_type": "execute_result"
    }
   ],
   "source": [
    "pipeline_TFIDF_NB.fit(data.data, data.target)\n",
    "pipeline_TFIDF_LR.fit(data.data, data.target)\n",
    "pipeline_TFIDF_SVM.fit(data.data, data.target)\n",
    "pipeline_TFIDF_DT.fit(data.data, data.target)\n",
    "pipeline_TFIDF_RF.fit(data.data, data.target)\n",
    "\n",
    "pipeline_CV_NB.fit(data.data, data.target)\n",
    "pipeline_CV_LR.fit(data.data, data.target)\n",
    "pipeline_CV_SVM.fit(data.data, data.target)\n",
    "pipeline_CV_DT.fit(data.data, data.target)\n",
    "pipeline_CV_RF.fit(data.data, data.target)"
   ]
  },
  {
   "cell_type": "markdown",
   "id": "f6f5c34f",
   "metadata": {},
   "source": [
    "## Predict results with the fitted models"
   ]
  },
  {
   "cell_type": "code",
   "execution_count": 6,
   "id": "827c341b",
   "metadata": {},
   "outputs": [],
   "source": [
    "y_MNB_pred = pipeline_TFIDF_NB.predict(data_test.data)\n",
    "y_LR_pred = pipeline_TFIDF_LR.predict(data_test.data)\n",
    "y_SVM_pred = pipeline_TFIDF_SVM.predict(data_test.data)\n",
    "y_DT_pred = pipeline_TFIDF_DT.predict(data_test.data)\n",
    "y_RF_pred = pipeline_TFIDF_RF.predict(data_test.data)\n",
    "results_TFIDF = [y_MNB_pred, y_LR_pred, y_SVM_pred, y_DT_pred, y_RF_pred]\n",
    "\n",
    "y_MNB_pred = pipeline_CV_NB.predict(data_test.data)\n",
    "y_LR_pred = pipeline_CV_LR.predict(data_test.data)\n",
    "y_SVM_pred = pipeline_CV_SVM.predict(data_test.data)\n",
    "y_DT_pred = pipeline_CV_DT.predict(data_test.data)\n",
    "y_RF_pred = pipeline_CV_RF.predict(data_test.data)\n",
    "results_CV = [y_MNB_pred, y_LR_pred, y_SVM_pred, y_DT_pred, y_RF_pred]"
   ]
  },
  {
   "cell_type": "markdown",
   "id": "fec0ca0b",
   "metadata": {},
   "source": [
    "## Evaluate results"
   ]
  },
  {
   "cell_type": "code",
   "execution_count": 7,
   "id": "b9ced6e5",
   "metadata": {},
   "outputs": [],
   "source": [
    "scores_TFIDF = {'Algorithm':['MultinomialNB', 'Logistic Regression', 'Support Vector Machines', 'Decision Tree', 'Random Forest'], \n",
    "          'Precision':[], 'Recall':[], 'Accuracy':[]}\n",
    "for result in results_TFIDF:\n",
    "    scores_TFIDF['Precision'].append(np.round_(precision_score(data_test.target, result, average=None), decimals = 3))\n",
    "    scores_TFIDF['Recall'].append(np.round_(recall_score(data_test.target, result, average=None), decimals = 3))\n",
    "    scores_TFIDF['Accuracy'].append(round((result==data_test.target).sum()/len(result), 3))\n",
    "\n",
    "scores_CV = {'Algorithm':['MultinomialNB', 'Logistic Regression', 'Support Vector Machines', 'Decision Tree', 'Random Forest'], \n",
    "          'Precision':[], 'Recall':[], 'Accuracy':[]}\n",
    "for result in results_CV:\n",
    "    scores_CV['Precision'].append(np.round_(precision_score(data_test.target, result, average=None), decimals = 3))\n",
    "    scores_CV['Recall'].append(np.round_(recall_score(data_test.target, result, average=None), decimals = 3))\n",
    "    scores_CV['Accuracy'].append(round((result==data_test.target).sum()/len(result), 3))"
   ]
  },
  {
   "cell_type": "code",
   "execution_count": 8,
   "id": "6ea060b1",
   "metadata": {},
   "outputs": [],
   "source": [
    "df_TFIDF = pd.DataFrame(scores_TFIDF)\n",
    "df_CV = pd.DataFrame(scores_CV)"
   ]
  },
  {
   "cell_type": "code",
   "execution_count": 9,
   "id": "359cbb85",
   "metadata": {},
   "outputs": [
    {
     "data": {
      "text/html": [
       "<div>\n",
       "<style scoped>\n",
       "    .dataframe tbody tr th:only-of-type {\n",
       "        vertical-align: middle;\n",
       "    }\n",
       "\n",
       "    .dataframe tbody tr th {\n",
       "        vertical-align: top;\n",
       "    }\n",
       "\n",
       "    .dataframe thead th {\n",
       "        text-align: right;\n",
       "    }\n",
       "</style>\n",
       "<table border=\"1\" class=\"dataframe\">\n",
       "  <thead>\n",
       "    <tr style=\"text-align: right;\">\n",
       "      <th></th>\n",
       "      <th>Algorithm</th>\n",
       "      <th>Precision</th>\n",
       "      <th>Recall</th>\n",
       "      <th>Accuracy</th>\n",
       "    </tr>\n",
       "  </thead>\n",
       "  <tbody>\n",
       "    <tr>\n",
       "      <th>0</th>\n",
       "      <td>MultinomialNB</td>\n",
       "      <td>[0.588, 0.876, 0.956, 1.0]</td>\n",
       "      <td>[0.989, 0.979, 0.494, 0.434]</td>\n",
       "      <td>0.761</td>\n",
       "    </tr>\n",
       "    <tr>\n",
       "      <th>1</th>\n",
       "      <td>Logistic Regression</td>\n",
       "      <td>[0.727, 0.973, 0.82, 0.955]</td>\n",
       "      <td>[0.951, 0.944, 0.632, 0.841]</td>\n",
       "      <td>0.852</td>\n",
       "    </tr>\n",
       "    <tr>\n",
       "      <th>2</th>\n",
       "      <td>Support Vector Machines</td>\n",
       "      <td>[0.745, 0.989, 0.81, 0.944]</td>\n",
       "      <td>[0.953, 0.923, 0.661, 0.869]</td>\n",
       "      <td>0.859</td>\n",
       "    </tr>\n",
       "    <tr>\n",
       "      <th>3</th>\n",
       "      <td>Decision Tree</td>\n",
       "      <td>[0.623, 0.834, 0.528, 0.602]</td>\n",
       "      <td>[0.758, 0.684, 0.487, 0.633]</td>\n",
       "      <td>0.648</td>\n",
       "    </tr>\n",
       "    <tr>\n",
       "      <th>4</th>\n",
       "      <td>Random Forest</td>\n",
       "      <td>[0.687, 0.976, 0.725, 0.91]</td>\n",
       "      <td>[0.94, 0.87, 0.603, 0.761]</td>\n",
       "      <td>0.805</td>\n",
       "    </tr>\n",
       "  </tbody>\n",
       "</table>\n",
       "</div>"
      ],
      "text/plain": [
       "                 Algorithm                     Precision  \\\n",
       "0            MultinomialNB    [0.588, 0.876, 0.956, 1.0]   \n",
       "1      Logistic Regression   [0.727, 0.973, 0.82, 0.955]   \n",
       "2  Support Vector Machines   [0.745, 0.989, 0.81, 0.944]   \n",
       "3            Decision Tree  [0.623, 0.834, 0.528, 0.602]   \n",
       "4            Random Forest   [0.687, 0.976, 0.725, 0.91]   \n",
       "\n",
       "                         Recall  Accuracy  \n",
       "0  [0.989, 0.979, 0.494, 0.434]     0.761  \n",
       "1  [0.951, 0.944, 0.632, 0.841]     0.852  \n",
       "2  [0.953, 0.923, 0.661, 0.869]     0.859  \n",
       "3  [0.758, 0.684, 0.487, 0.633]     0.648  \n",
       "4    [0.94, 0.87, 0.603, 0.761]     0.805  "
      ]
     },
     "execution_count": 9,
     "metadata": {},
     "output_type": "execute_result"
    }
   ],
   "source": [
    "df_TFIDF"
   ]
  },
  {
   "cell_type": "code",
   "execution_count": 10,
   "id": "bc5e43a3",
   "metadata": {},
   "outputs": [
    {
     "data": {
      "text/html": [
       "<div>\n",
       "<style scoped>\n",
       "    .dataframe tbody tr th:only-of-type {\n",
       "        vertical-align: middle;\n",
       "    }\n",
       "\n",
       "    .dataframe tbody tr th {\n",
       "        vertical-align: top;\n",
       "    }\n",
       "\n",
       "    .dataframe thead th {\n",
       "        text-align: right;\n",
       "    }\n",
       "</style>\n",
       "<table border=\"1\" class=\"dataframe\">\n",
       "  <thead>\n",
       "    <tr style=\"text-align: right;\">\n",
       "      <th></th>\n",
       "      <th>Algorithm</th>\n",
       "      <th>Precision</th>\n",
       "      <th>Recall</th>\n",
       "      <th>Accuracy</th>\n",
       "    </tr>\n",
       "  </thead>\n",
       "  <tbody>\n",
       "    <tr>\n",
       "      <th>0</th>\n",
       "      <td>MultinomialNB</td>\n",
       "      <td>[0.588, 0.876, 0.956, 1.0]</td>\n",
       "      <td>[0.989, 0.979, 0.494, 0.434]</td>\n",
       "      <td>0.761</td>\n",
       "    </tr>\n",
       "    <tr>\n",
       "      <th>1</th>\n",
       "      <td>Logistic Regression</td>\n",
       "      <td>[0.727, 0.973, 0.82, 0.955]</td>\n",
       "      <td>[0.951, 0.944, 0.632, 0.841]</td>\n",
       "      <td>0.852</td>\n",
       "    </tr>\n",
       "    <tr>\n",
       "      <th>2</th>\n",
       "      <td>Support Vector Machines</td>\n",
       "      <td>[0.745, 0.989, 0.81, 0.944]</td>\n",
       "      <td>[0.953, 0.923, 0.661, 0.869]</td>\n",
       "      <td>0.859</td>\n",
       "    </tr>\n",
       "    <tr>\n",
       "      <th>3</th>\n",
       "      <td>Decision Tree</td>\n",
       "      <td>[0.623, 0.834, 0.528, 0.602]</td>\n",
       "      <td>[0.758, 0.684, 0.487, 0.633]</td>\n",
       "      <td>0.648</td>\n",
       "    </tr>\n",
       "    <tr>\n",
       "      <th>4</th>\n",
       "      <td>Random Forest</td>\n",
       "      <td>[0.687, 0.976, 0.725, 0.91]</td>\n",
       "      <td>[0.94, 0.87, 0.603, 0.761]</td>\n",
       "      <td>0.805</td>\n",
       "    </tr>\n",
       "  </tbody>\n",
       "</table>\n",
       "</div>"
      ],
      "text/plain": [
       "                 Algorithm                     Precision  \\\n",
       "0            MultinomialNB    [0.588, 0.876, 0.956, 1.0]   \n",
       "1      Logistic Regression   [0.727, 0.973, 0.82, 0.955]   \n",
       "2  Support Vector Machines   [0.745, 0.989, 0.81, 0.944]   \n",
       "3            Decision Tree  [0.623, 0.834, 0.528, 0.602]   \n",
       "4            Random Forest   [0.687, 0.976, 0.725, 0.91]   \n",
       "\n",
       "                         Recall  Accuracy  \n",
       "0  [0.989, 0.979, 0.494, 0.434]     0.761  \n",
       "1  [0.951, 0.944, 0.632, 0.841]     0.852  \n",
       "2  [0.953, 0.923, 0.661, 0.869]     0.859  \n",
       "3  [0.758, 0.684, 0.487, 0.633]     0.648  \n",
       "4    [0.94, 0.87, 0.603, 0.761]     0.805  "
      ]
     },
     "execution_count": 10,
     "metadata": {},
     "output_type": "execute_result"
    }
   ],
   "source": [
    "df_CV"
   ]
  },
  {
   "cell_type": "markdown",
   "id": "1aa803d8",
   "metadata": {},
   "source": [
    "## Prepare the data for Word2Vec"
   ]
  },
  {
   "cell_type": "code",
   "execution_count": 11,
   "id": "4a16d50a",
   "metadata": {},
   "outputs": [
    {
     "name": "stderr",
     "output_type": "stream",
     "text": [
      "C:\\Users\\Alexv\\AppData\\Local\\Temp\\ipykernel_2064\\2793455876.py:12: VisibleDeprecationWarning: Creating an ndarray from ragged nested sequences (which is a list-or-tuple of lists-or-tuples-or ndarrays with different lengths or shapes) is deprecated. If you meant to do this, you must specify 'dtype=object' when creating the ndarray\n",
      "  X_train = np.array(articles_tokenized)\n",
      "C:\\Users\\Alexv\\AppData\\Local\\Temp\\ipykernel_2064\\2793455876.py:14: VisibleDeprecationWarning: Creating an ndarray from ragged nested sequences (which is a list-or-tuple of lists-or-tuples-or ndarrays with different lengths or shapes) is deprecated. If you meant to do this, you must specify 'dtype=object' when creating the ndarray\n",
      "  X_test = np.array(test_articles_tokenized)\n"
     ]
    }
   ],
   "source": [
    "# split articles into words and remove special characters\n",
    "articles_tokenized = []\n",
    "for article in data.data:\n",
    "    article_stripped = re.sub(r\"[',;<>\\(\\)\\[\\]\\{\\}\\/\\|\\-.:@?!]\",'',article).lower()\n",
    "    articles_tokenized.append(word_tokenize(article_stripped)) \n",
    "    \n",
    "test_articles_tokenized = []\n",
    "for article in data_test.data:\n",
    "    article_stripped = re.sub(r\"[',;<>\\(\\)\\[\\]\\{\\}\\/\\|\\-.:@?!]\",'',article).lower()\n",
    "    test_articles_tokenized.append(np.array(word_tokenize(article_stripped)))\n",
    "\n",
    "X_train = np.array(articles_tokenized)\n",
    "y_train = np.array(data.target)\n",
    "X_test = np.array(test_articles_tokenized)\n",
    "y_test = np.array(data_test.target)"
   ]
  },
  {
   "cell_type": "markdown",
   "id": "a6b5d8c0",
   "metadata": {},
   "source": [
    "## Define and train Word2Vec model "
   ]
  },
  {
   "cell_type": "code",
   "execution_count": 12,
   "id": "45963916",
   "metadata": {},
   "outputs": [
    {
     "data": {
      "text/plain": [
       "(65254984, 83010100)"
      ]
     },
     "execution_count": 12,
     "metadata": {},
     "output_type": "execute_result"
    }
   ],
   "source": [
    "W2V_model = Word2Vec(sentences=articles_tokenized, min_count = 1, vector_size= 50, window = 6, sg=0)\n",
    "# model2 = Word2Vec(sentences=articles_tokenized, min_count = 1, size = 50, window = 6, sg = 1)\n",
    "W2V_model.train(articles_tokenized, total_examples=len(articles_tokenized), epochs=100)"
   ]
  },
  {
   "cell_type": "markdown",
   "id": "64385748",
   "metadata": {},
   "source": [
    "## Prepare data for classification models"
   ]
  },
  {
   "cell_type": "code",
   "execution_count": 13,
   "id": "073f691c",
   "metadata": {},
   "outputs": [
    {
     "name": "stderr",
     "output_type": "stream",
     "text": [
      "C:\\Users\\Alexv\\AppData\\Local\\Temp\\ipykernel_2064\\485266752.py:2: VisibleDeprecationWarning: Creating an ndarray from ragged nested sequences (which is a list-or-tuple of lists-or-tuples-or ndarrays with different lengths or shapes) is deprecated. If you meant to do this, you must specify 'dtype=object' when creating the ndarray\n",
      "  X_train_vect = np.array([np.array([W2V_model.wv[i] for i in ls if i in words]) for ls in X_train])\n",
      "C:\\Users\\Alexv\\AppData\\Local\\Temp\\ipykernel_2064\\485266752.py:3: VisibleDeprecationWarning: Creating an ndarray from ragged nested sequences (which is a list-or-tuple of lists-or-tuples-or ndarrays with different lengths or shapes) is deprecated. If you meant to do this, you must specify 'dtype=object' when creating the ndarray\n",
      "  X_test_vect = np.array([np.array([W2V_model.wv[i] for i in ls if i in words]) for ls in X_test])\n"
     ]
    }
   ],
   "source": [
    "words = set(W2V_model.wv.index_to_key)\n",
    "X_train_vect = np.array([np.array([W2V_model.wv[i] for i in ls if i in words]) for ls in X_train])\n",
    "X_test_vect = np.array([np.array([W2V_model.wv[i] for i in ls if i in words]) for ls in X_test])"
   ]
  },
  {
   "cell_type": "code",
   "execution_count": 14,
   "id": "c75ea2b0",
   "metadata": {},
   "outputs": [],
   "source": [
    "# Compute sentence vectors by averaging the word vectors for the words contained in the sentence\n",
    "X_train_vect_avg = []\n",
    "for v in X_train_vect:\n",
    "    if len(v):\n",
    "        X_train_vect_avg.append(v.mean(axis=0))\n",
    "    else:\n",
    "        X_train_vect_avg.append(np.zeros(100, dtype=float))\n",
    "        \n",
    "X_test_vect_avg = []\n",
    "for v in X_test_vect:\n",
    "    if v.size:\n",
    "        X_test_vect_avg.append(v.mean(axis=0))\n",
    "    else:\n",
    "        X_test_vect_avg.append(np.zeros(100, dtype=float))"
   ]
  },
  {
   "cell_type": "code",
   "execution_count": 15,
   "id": "4d3e379f",
   "metadata": {},
   "outputs": [],
   "source": [
    "#  NB does not accept negative values so we normalize the data with the Min Max scaler\n",
    "minmax = MinMaxScaler()\n",
    "X_train_NB = minmax.fit_transform(X_train_vect_avg)\n",
    "X_test_NB = minmax.fit_transform(X_test_vect_avg)"
   ]
  },
  {
   "cell_type": "markdown",
   "id": "0b5efeac",
   "metadata": {},
   "source": [
    "## Create and fit classification models"
   ]
  },
  {
   "cell_type": "code",
   "execution_count": 16,
   "id": "f21430be",
   "metadata": {},
   "outputs": [
    {
     "data": {
      "text/plain": [
       "RandomForestClassifier(random_state=0)"
      ]
     },
     "execution_count": 16,
     "metadata": {},
     "output_type": "execute_result"
    }
   ],
   "source": [
    "MNB_model = MultinomialNB()\n",
    "MNB_model.fit(X_train_NB, y_train)\n",
    "LR_model = LogisticRegression(random_state=0, solver='newton-cg', multi_class='multinomial')\n",
    "LR_model.fit(X_train_vect_avg, y_train)\n",
    "SVM_model = SVC(random_state=0)\n",
    "SVM_model.fit(X_train_vect_avg, y_train)\n",
    "DT_model = DecisionTreeClassifier(random_state=0)\n",
    "DT_model.fit(X_train_vect_avg, y_train)\n",
    "RF_model = RandomForestClassifier(random_state=0)\n",
    "RF_model.fit(X_train_vect_avg, y_train)"
   ]
  },
  {
   "cell_type": "markdown",
   "id": "b5d6ec4e",
   "metadata": {},
   "source": [
    "## Predict with the generated models"
   ]
  },
  {
   "cell_type": "code",
   "execution_count": 17,
   "id": "36ccb484",
   "metadata": {},
   "outputs": [],
   "source": [
    "y_MNB_pred = MNB_model.predict(X_test_NB)\n",
    "y_LR_pred = LR_model.predict(X_test_vect_avg)\n",
    "y_SVM_pred = SVM_model.predict(X_test_vect_avg)\n",
    "y_DT_pred = DT_model.predict(X_test_vect_avg)\n",
    "y_RF_pred = RF_model.predict(X_test_vect_avg)\n",
    "results = [y_MNB_pred, y_LR_pred, y_SVM_pred, y_DT_pred, y_RF_pred]"
   ]
  },
  {
   "cell_type": "markdown",
   "id": "5d384e28",
   "metadata": {},
   "source": [
    "## Evaluate the results"
   ]
  },
  {
   "cell_type": "code",
   "execution_count": 18,
   "id": "a41bd0e3",
   "metadata": {},
   "outputs": [],
   "source": [
    "scores_W2V = {'Algorithm':['MultinomialNB', 'Logistic Regression', 'Support Vector Machines', 'Decision Tree', 'Random Forest'], \n",
    "          'Precision':[], 'Recall':[], 'Accuracy':[]}\n",
    "for result in results:\n",
    "    scores_W2V['Precision'].append(np.round_(precision_score(y_test, result, average=None), decimals = 3))\n",
    "    scores_W2V['Recall'].append(np.round_(recall_score(y_test, result, average=None), decimals = 3))\n",
    "    scores_W2V['Accuracy'].append(round((result==y_test).sum()/len(result), 3))\n",
    "    "
   ]
  },
  {
   "cell_type": "code",
   "execution_count": 19,
   "id": "82342522",
   "metadata": {},
   "outputs": [
    {
     "data": {
      "text/html": [
       "<div>\n",
       "<style scoped>\n",
       "    .dataframe tbody tr th:only-of-type {\n",
       "        vertical-align: middle;\n",
       "    }\n",
       "\n",
       "    .dataframe tbody tr th {\n",
       "        vertical-align: top;\n",
       "    }\n",
       "\n",
       "    .dataframe thead th {\n",
       "        text-align: right;\n",
       "    }\n",
       "</style>\n",
       "<table border=\"1\" class=\"dataframe\">\n",
       "  <thead>\n",
       "    <tr style=\"text-align: right;\">\n",
       "      <th></th>\n",
       "      <th>Algorithm</th>\n",
       "      <th>Precision</th>\n",
       "      <th>Recall</th>\n",
       "      <th>Accuracy</th>\n",
       "    </tr>\n",
       "  </thead>\n",
       "  <tbody>\n",
       "    <tr>\n",
       "      <th>0</th>\n",
       "      <td>MultinomialNB</td>\n",
       "      <td>[0.753, 0.314, 1.0, 1.0]</td>\n",
       "      <td>[0.176, 1.0, 0.006, 0.064]</td>\n",
       "      <td>0.352</td>\n",
       "    </tr>\n",
       "    <tr>\n",
       "      <th>1</th>\n",
       "      <td>Logistic Regression</td>\n",
       "      <td>[0.677, 0.952, 0.664, 0.743]</td>\n",
       "      <td>[0.813, 0.843, 0.561, 0.797]</td>\n",
       "      <td>0.759</td>\n",
       "    </tr>\n",
       "    <tr>\n",
       "      <th>2</th>\n",
       "      <td>Support Vector Machines</td>\n",
       "      <td>[0.683, 0.975, 0.641, 0.802]</td>\n",
       "      <td>[0.86, 0.843, 0.571, 0.773]</td>\n",
       "      <td>0.769</td>\n",
       "    </tr>\n",
       "    <tr>\n",
       "      <th>3</th>\n",
       "      <td>Decision Tree</td>\n",
       "      <td>[0.531, 0.723, 0.404, 0.475]</td>\n",
       "      <td>[0.591, 0.646, 0.368, 0.526]</td>\n",
       "      <td>0.541</td>\n",
       "    </tr>\n",
       "    <tr>\n",
       "      <th>4</th>\n",
       "      <td>Random Forest</td>\n",
       "      <td>[0.628, 0.922, 0.632, 0.776]</td>\n",
       "      <td>[0.849, 0.846, 0.51, 0.661]</td>\n",
       "      <td>0.731</td>\n",
       "    </tr>\n",
       "  </tbody>\n",
       "</table>\n",
       "</div>"
      ],
      "text/plain": [
       "                 Algorithm                     Precision  \\\n",
       "0            MultinomialNB      [0.753, 0.314, 1.0, 1.0]   \n",
       "1      Logistic Regression  [0.677, 0.952, 0.664, 0.743]   \n",
       "2  Support Vector Machines  [0.683, 0.975, 0.641, 0.802]   \n",
       "3            Decision Tree  [0.531, 0.723, 0.404, 0.475]   \n",
       "4            Random Forest  [0.628, 0.922, 0.632, 0.776]   \n",
       "\n",
       "                         Recall  Accuracy  \n",
       "0    [0.176, 1.0, 0.006, 0.064]     0.352  \n",
       "1  [0.813, 0.843, 0.561, 0.797]     0.759  \n",
       "2   [0.86, 0.843, 0.571, 0.773]     0.769  \n",
       "3  [0.591, 0.646, 0.368, 0.526]     0.541  \n",
       "4   [0.849, 0.846, 0.51, 0.661]     0.731  "
      ]
     },
     "execution_count": 19,
     "metadata": {},
     "output_type": "execute_result"
    }
   ],
   "source": [
    "df_W2V = pd.DataFrame(scores_W2V)\n",
    "df_W2V"
   ]
  },
  {
   "cell_type": "markdown",
   "id": "db0b9be5",
   "metadata": {},
   "source": [
    "## Prepare data for Doc2Vec"
   ]
  },
  {
   "cell_type": "code",
   "execution_count": 20,
   "id": "493aa246",
   "metadata": {},
   "outputs": [],
   "source": [
    "from gensim.models import doc2vec\n",
    "def tagged_document(list_of_list_of_words):\n",
    "   for i, list_of_words in enumerate(list_of_list_of_words):\n",
    "      yield doc2vec.TaggedDocument(list_of_words, [i])\n",
    "        \n",
    "data_for_training = list(tagged_document(articles_tokenized))\n",
    "data_for_testing = list(tagged_document(test_articles_tokenized))"
   ]
  },
  {
   "cell_type": "markdown",
   "id": "6ecbca02",
   "metadata": {},
   "source": [
    "## Define and train Doc2Vec model "
   ]
  },
  {
   "cell_type": "code",
   "execution_count": 21,
   "id": "4f9d00af",
   "metadata": {},
   "outputs": [],
   "source": [
    "D2V_model = Doc2Vec(min_count = 2, vector_size= 50, window = 6)\n",
    "\n",
    "D2V_model.build_vocab(data_for_training)\n",
    "D2V_model.train(data_for_training, total_examples=len(data_for_training), epochs=100)"
   ]
  },
  {
   "cell_type": "markdown",
   "id": "3fce2fc5",
   "metadata": {},
   "source": [
    "## Prepare data for classification models"
   ]
  },
  {
   "cell_type": "code",
   "execution_count": 23,
   "id": "62005b75",
   "metadata": {},
   "outputs": [
    {
     "name": "stderr",
     "output_type": "stream",
     "text": [
      "C:\\Users\\Alexv\\AppData\\Local\\Temp\\ipykernel_2064\\2893785809.py:2: VisibleDeprecationWarning: Creating an ndarray from ragged nested sequences (which is a list-or-tuple of lists-or-tuples-or ndarrays with different lengths or shapes) is deprecated. If you meant to do this, you must specify 'dtype=object' when creating the ndarray\n",
      "  X_train_vect = np.array([np.array([D2V_model.wv[i] for i in ls if i in words]) for ls in X_train])\n",
      "C:\\Users\\Alexv\\AppData\\Local\\Temp\\ipykernel_2064\\2893785809.py:3: VisibleDeprecationWarning: Creating an ndarray from ragged nested sequences (which is a list-or-tuple of lists-or-tuples-or ndarrays with different lengths or shapes) is deprecated. If you meant to do this, you must specify 'dtype=object' when creating the ndarray\n",
      "  X_test_vect = np.array([np.array([D2V_model.wv[i] for i in ls if i in words]) for ls in X_test])\n"
     ]
    }
   ],
   "source": [
    "words = set(D2V_model.wv.index_to_key)\n",
    "X_train_vect = np.array([np.array([D2V_model.wv[i] for i in ls if i in words]) for ls in X_train])\n",
    "X_test_vect = np.array([np.array([D2V_model.wv[i] for i in ls if i in words]) for ls in X_test])"
   ]
  },
  {
   "cell_type": "code",
   "execution_count": 24,
   "id": "f7511ec4",
   "metadata": {},
   "outputs": [],
   "source": [
    "# Compute sentence vectors by averaging the word vectors for the words contained in the sentence\n",
    "X_train_vect_avg = []\n",
    "for v in X_train_vect:\n",
    "    if len(v):\n",
    "        X_train_vect_avg.append(v.mean(axis=0))\n",
    "    else:\n",
    "        X_train_vect_avg.append(np.zeros(100, dtype=float))\n",
    "        \n",
    "X_test_vect_avg = []\n",
    "for v in X_test_vect:\n",
    "    if v.size:\n",
    "        X_test_vect_avg.append(v.mean(axis=0))\n",
    "    else:\n",
    "        X_test_vect_avg.append(np.zeros(100, dtype=float))"
   ]
  },
  {
   "cell_type": "code",
   "execution_count": 25,
   "id": "aaa770d2",
   "metadata": {},
   "outputs": [],
   "source": [
    "#  NB does not accept negative values so we normalize the data with the Min Max scaler\n",
    "minmax = MinMaxScaler()\n",
    "X_train_NB = minmax.fit_transform(X_train_vect_avg)\n",
    "X_test_NB = minmax.fit_transform(X_test_vect_avg)"
   ]
  },
  {
   "cell_type": "markdown",
   "id": "f423ac46",
   "metadata": {},
   "source": [
    "## Create and fit classification models"
   ]
  },
  {
   "cell_type": "code",
   "execution_count": 26,
   "id": "c72cb483",
   "metadata": {},
   "outputs": [
    {
     "data": {
      "text/plain": [
       "RandomForestClassifier(random_state=0)"
      ]
     },
     "execution_count": 26,
     "metadata": {},
     "output_type": "execute_result"
    }
   ],
   "source": [
    "MNB_model = MultinomialNB()\n",
    "MNB_model.fit(X_train_NB, y_train)\n",
    "LR_model = LogisticRegression(random_state=0, solver='newton-cg', multi_class='multinomial')\n",
    "LR_model.fit(X_train_vect_avg, y_train)\n",
    "SVM_model = SVC(random_state=0)\n",
    "SVM_model.fit(X_train_vect_avg, y_train)\n",
    "DT_model = DecisionTreeClassifier(random_state=0)\n",
    "DT_model.fit(X_train_vect_avg, y_train)\n",
    "RF_model = RandomForestClassifier(random_state=0)\n",
    "RF_model.fit(X_train_vect_avg, y_train)"
   ]
  },
  {
   "cell_type": "markdown",
   "id": "0b87a163",
   "metadata": {},
   "source": [
    "## Predict with the generated models"
   ]
  },
  {
   "cell_type": "code",
   "execution_count": 27,
   "id": "a36299ff",
   "metadata": {},
   "outputs": [],
   "source": [
    "y_MNB_pred = MNB_model.predict(X_test_NB)\n",
    "y_LR_pred = LR_model.predict(X_test_vect_avg)\n",
    "y_SVM_pred = SVM_model.predict(X_test_vect_avg)\n",
    "y_DT_pred = DT_model.predict(X_test_vect_avg)\n",
    "y_RF_pred = RF_model.predict(X_test_vect_avg)\n",
    "results = [y_MNB_pred, y_LR_pred, y_SVM_pred, y_DT_pred, y_RF_pred]"
   ]
  },
  {
   "cell_type": "markdown",
   "id": "003d5196",
   "metadata": {},
   "source": [
    "## Evaluate the results"
   ]
  },
  {
   "cell_type": "code",
   "execution_count": 28,
   "id": "2b7e35b4",
   "metadata": {},
   "outputs": [],
   "source": [
    "scores_D2V = {'Algorithm':['MultinomialNB', 'Logistic Regression', 'Support Vector Machines', 'Decision Tree', 'Random Forest'], \n",
    "          'Precision':[], 'Recall':[], 'Accuracy':[]}\n",
    "for result in results:\n",
    "    scores_D2V['Precision'].append(np.round_(precision_score(y_test, result, average=None), decimals = 3))\n",
    "    scores_D2V['Recall'].append(np.round_(recall_score(y_test, result, average=None), decimals = 3))\n",
    "    scores_D2V['Accuracy'].append(round((result==y_test).sum()/len(result), 3))\n",
    "    "
   ]
  },
  {
   "cell_type": "code",
   "execution_count": 29,
   "id": "b345b796",
   "metadata": {},
   "outputs": [
    {
     "data": {
      "text/html": [
       "<div>\n",
       "<style scoped>\n",
       "    .dataframe tbody tr th:only-of-type {\n",
       "        vertical-align: middle;\n",
       "    }\n",
       "\n",
       "    .dataframe tbody tr th {\n",
       "        vertical-align: top;\n",
       "    }\n",
       "\n",
       "    .dataframe thead th {\n",
       "        text-align: right;\n",
       "    }\n",
       "</style>\n",
       "<table border=\"1\" class=\"dataframe\">\n",
       "  <thead>\n",
       "    <tr style=\"text-align: right;\">\n",
       "      <th></th>\n",
       "      <th>Algorithm</th>\n",
       "      <th>Precision</th>\n",
       "      <th>Recall</th>\n",
       "      <th>Accuracy</th>\n",
       "    </tr>\n",
       "  </thead>\n",
       "  <tbody>\n",
       "    <tr>\n",
       "      <th>0</th>\n",
       "      <td>MultinomialNB</td>\n",
       "      <td>[0.632, 0.455, 0.87, 0.929]</td>\n",
       "      <td>[0.731, 0.992, 0.129, 0.052]</td>\n",
       "      <td>0.532</td>\n",
       "    </tr>\n",
       "    <tr>\n",
       "      <th>1</th>\n",
       "      <td>Logistic Regression</td>\n",
       "      <td>[0.673, 0.939, 0.663, 0.775]</td>\n",
       "      <td>[0.835, 0.864, 0.571, 0.729]</td>\n",
       "      <td>0.760</td>\n",
       "    </tr>\n",
       "    <tr>\n",
       "      <th>2</th>\n",
       "      <td>Support Vector Machines</td>\n",
       "      <td>[0.671, 0.953, 0.633, 0.782]</td>\n",
       "      <td>[0.83, 0.854, 0.561, 0.745]</td>\n",
       "      <td>0.756</td>\n",
       "    </tr>\n",
       "    <tr>\n",
       "      <th>3</th>\n",
       "      <td>Decision Tree</td>\n",
       "      <td>[0.547, 0.748, 0.443, 0.52]</td>\n",
       "      <td>[0.618, 0.71, 0.377, 0.558]</td>\n",
       "      <td>0.576</td>\n",
       "    </tr>\n",
       "    <tr>\n",
       "      <th>4</th>\n",
       "      <td>Random Forest</td>\n",
       "      <td>[0.651, 0.919, 0.643, 0.735]</td>\n",
       "      <td>[0.846, 0.872, 0.5, 0.673]</td>\n",
       "      <td>0.738</td>\n",
       "    </tr>\n",
       "  </tbody>\n",
       "</table>\n",
       "</div>"
      ],
      "text/plain": [
       "                 Algorithm                     Precision  \\\n",
       "0            MultinomialNB   [0.632, 0.455, 0.87, 0.929]   \n",
       "1      Logistic Regression  [0.673, 0.939, 0.663, 0.775]   \n",
       "2  Support Vector Machines  [0.671, 0.953, 0.633, 0.782]   \n",
       "3            Decision Tree   [0.547, 0.748, 0.443, 0.52]   \n",
       "4            Random Forest  [0.651, 0.919, 0.643, 0.735]   \n",
       "\n",
       "                         Recall  Accuracy  \n",
       "0  [0.731, 0.992, 0.129, 0.052]     0.532  \n",
       "1  [0.835, 0.864, 0.571, 0.729]     0.760  \n",
       "2   [0.83, 0.854, 0.561, 0.745]     0.756  \n",
       "3   [0.618, 0.71, 0.377, 0.558]     0.576  \n",
       "4    [0.846, 0.872, 0.5, 0.673]     0.738  "
      ]
     },
     "execution_count": 29,
     "metadata": {},
     "output_type": "execute_result"
    }
   ],
   "source": [
    "df_D2V = pd.DataFrame(scores_D2V)\n",
    "df_D2V"
   ]
  }
 ],
 "metadata": {
  "kernelspec": {
   "display_name": "Python 3 (ipykernel)",
   "language": "python",
   "name": "python3"
  },
  "language_info": {
   "codemirror_mode": {
    "name": "ipython",
    "version": 3
   },
   "file_extension": ".py",
   "mimetype": "text/x-python",
   "name": "python",
   "nbconvert_exporter": "python",
   "pygments_lexer": "ipython3",
   "version": "3.9.13"
  }
 },
 "nbformat": 4,
 "nbformat_minor": 5
}
